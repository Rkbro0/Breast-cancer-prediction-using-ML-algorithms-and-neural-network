{
 "cells": [
  {
   "cell_type": "code",
   "execution_count": null,
   "id": "16100e5b",
   "metadata": {},
   "outputs": [],
   "source": [
    "Breast cancer Prediction using Machine learning Algorithms and Deep learning neural network"
   ]
  },
  {
   "cell_type": "code",
   "execution_count": 138,
   "id": "b197646e",
   "metadata": {},
   "outputs": [],
   "source": [
    "#importing the libraries\n",
    "import numpy as np\n",
    "import matplotlib.pyplot as plt\n",
    "import pandas as pd"
   ]
  },
  {
   "cell_type": "code",
   "execution_count": 139,
   "id": "fc613ec4",
   "metadata": {},
   "outputs": [],
   "source": [
    "#importing dataset\n",
    "dataset = pd.read_csv('breast-cancer.csv')\n",
    "X = dataset.iloc[:, 2:32].values\n",
    "Y = dataset.iloc[:, 1].values"
   ]
  },
  {
   "cell_type": "code",
   "execution_count": 140,
   "id": "3f0db871",
   "metadata": {},
   "outputs": [
    {
     "data": {
      "text/html": [
       "<div>\n",
       "<style scoped>\n",
       "    .dataframe tbody tr th:only-of-type {\n",
       "        vertical-align: middle;\n",
       "    }\n",
       "\n",
       "    .dataframe tbody tr th {\n",
       "        vertical-align: top;\n",
       "    }\n",
       "\n",
       "    .dataframe thead th {\n",
       "        text-align: right;\n",
       "    }\n",
       "</style>\n",
       "<table border=\"1\" class=\"dataframe\">\n",
       "  <thead>\n",
       "    <tr style=\"text-align: right;\">\n",
       "      <th></th>\n",
       "      <th>id</th>\n",
       "      <th>diagnosis</th>\n",
       "      <th>radius_mean</th>\n",
       "      <th>texture_mean</th>\n",
       "      <th>perimeter_mean</th>\n",
       "      <th>area_mean</th>\n",
       "      <th>smoothness_mean</th>\n",
       "      <th>compactness_mean</th>\n",
       "      <th>concavity_mean</th>\n",
       "      <th>concave points_mean</th>\n",
       "      <th>...</th>\n",
       "      <th>radius_worst</th>\n",
       "      <th>texture_worst</th>\n",
       "      <th>perimeter_worst</th>\n",
       "      <th>area_worst</th>\n",
       "      <th>smoothness_worst</th>\n",
       "      <th>compactness_worst</th>\n",
       "      <th>concavity_worst</th>\n",
       "      <th>concave points_worst</th>\n",
       "      <th>symmetry_worst</th>\n",
       "      <th>fractal_dimension_worst</th>\n",
       "    </tr>\n",
       "  </thead>\n",
       "  <tbody>\n",
       "    <tr>\n",
       "      <th>0</th>\n",
       "      <td>842302</td>\n",
       "      <td>M</td>\n",
       "      <td>17.99</td>\n",
       "      <td>10.38</td>\n",
       "      <td>122.80</td>\n",
       "      <td>1001.0</td>\n",
       "      <td>0.11840</td>\n",
       "      <td>0.27760</td>\n",
       "      <td>0.3001</td>\n",
       "      <td>0.14710</td>\n",
       "      <td>...</td>\n",
       "      <td>25.38</td>\n",
       "      <td>17.33</td>\n",
       "      <td>184.60</td>\n",
       "      <td>2019.0</td>\n",
       "      <td>0.1622</td>\n",
       "      <td>0.6656</td>\n",
       "      <td>0.7119</td>\n",
       "      <td>0.2654</td>\n",
       "      <td>0.4601</td>\n",
       "      <td>0.11890</td>\n",
       "    </tr>\n",
       "    <tr>\n",
       "      <th>1</th>\n",
       "      <td>842517</td>\n",
       "      <td>M</td>\n",
       "      <td>20.57</td>\n",
       "      <td>17.77</td>\n",
       "      <td>132.90</td>\n",
       "      <td>1326.0</td>\n",
       "      <td>0.08474</td>\n",
       "      <td>0.07864</td>\n",
       "      <td>0.0869</td>\n",
       "      <td>0.07017</td>\n",
       "      <td>...</td>\n",
       "      <td>24.99</td>\n",
       "      <td>23.41</td>\n",
       "      <td>158.80</td>\n",
       "      <td>1956.0</td>\n",
       "      <td>0.1238</td>\n",
       "      <td>0.1866</td>\n",
       "      <td>0.2416</td>\n",
       "      <td>0.1860</td>\n",
       "      <td>0.2750</td>\n",
       "      <td>0.08902</td>\n",
       "    </tr>\n",
       "    <tr>\n",
       "      <th>2</th>\n",
       "      <td>84300903</td>\n",
       "      <td>M</td>\n",
       "      <td>19.69</td>\n",
       "      <td>21.25</td>\n",
       "      <td>130.00</td>\n",
       "      <td>1203.0</td>\n",
       "      <td>0.10960</td>\n",
       "      <td>0.15990</td>\n",
       "      <td>0.1974</td>\n",
       "      <td>0.12790</td>\n",
       "      <td>...</td>\n",
       "      <td>23.57</td>\n",
       "      <td>25.53</td>\n",
       "      <td>152.50</td>\n",
       "      <td>1709.0</td>\n",
       "      <td>0.1444</td>\n",
       "      <td>0.4245</td>\n",
       "      <td>0.4504</td>\n",
       "      <td>0.2430</td>\n",
       "      <td>0.3613</td>\n",
       "      <td>0.08758</td>\n",
       "    </tr>\n",
       "    <tr>\n",
       "      <th>3</th>\n",
       "      <td>84348301</td>\n",
       "      <td>M</td>\n",
       "      <td>11.42</td>\n",
       "      <td>20.38</td>\n",
       "      <td>77.58</td>\n",
       "      <td>386.1</td>\n",
       "      <td>0.14250</td>\n",
       "      <td>0.28390</td>\n",
       "      <td>0.2414</td>\n",
       "      <td>0.10520</td>\n",
       "      <td>...</td>\n",
       "      <td>14.91</td>\n",
       "      <td>26.50</td>\n",
       "      <td>98.87</td>\n",
       "      <td>567.7</td>\n",
       "      <td>0.2098</td>\n",
       "      <td>0.8663</td>\n",
       "      <td>0.6869</td>\n",
       "      <td>0.2575</td>\n",
       "      <td>0.6638</td>\n",
       "      <td>0.17300</td>\n",
       "    </tr>\n",
       "    <tr>\n",
       "      <th>4</th>\n",
       "      <td>84358402</td>\n",
       "      <td>M</td>\n",
       "      <td>20.29</td>\n",
       "      <td>14.34</td>\n",
       "      <td>135.10</td>\n",
       "      <td>1297.0</td>\n",
       "      <td>0.10030</td>\n",
       "      <td>0.13280</td>\n",
       "      <td>0.1980</td>\n",
       "      <td>0.10430</td>\n",
       "      <td>...</td>\n",
       "      <td>22.54</td>\n",
       "      <td>16.67</td>\n",
       "      <td>152.20</td>\n",
       "      <td>1575.0</td>\n",
       "      <td>0.1374</td>\n",
       "      <td>0.2050</td>\n",
       "      <td>0.4000</td>\n",
       "      <td>0.1625</td>\n",
       "      <td>0.2364</td>\n",
       "      <td>0.07678</td>\n",
       "    </tr>\n",
       "  </tbody>\n",
       "</table>\n",
       "<p>5 rows × 32 columns</p>\n",
       "</div>"
      ],
      "text/plain": [
       "         id diagnosis  radius_mean  texture_mean  perimeter_mean  area_mean  \\\n",
       "0    842302         M        17.99         10.38          122.80     1001.0   \n",
       "1    842517         M        20.57         17.77          132.90     1326.0   \n",
       "2  84300903         M        19.69         21.25          130.00     1203.0   \n",
       "3  84348301         M        11.42         20.38           77.58      386.1   \n",
       "4  84358402         M        20.29         14.34          135.10     1297.0   \n",
       "\n",
       "   smoothness_mean  compactness_mean  concavity_mean  concave points_mean  \\\n",
       "0          0.11840           0.27760          0.3001              0.14710   \n",
       "1          0.08474           0.07864          0.0869              0.07017   \n",
       "2          0.10960           0.15990          0.1974              0.12790   \n",
       "3          0.14250           0.28390          0.2414              0.10520   \n",
       "4          0.10030           0.13280          0.1980              0.10430   \n",
       "\n",
       "   ...  radius_worst  texture_worst  perimeter_worst  area_worst  \\\n",
       "0  ...         25.38          17.33           184.60      2019.0   \n",
       "1  ...         24.99          23.41           158.80      1956.0   \n",
       "2  ...         23.57          25.53           152.50      1709.0   \n",
       "3  ...         14.91          26.50            98.87       567.7   \n",
       "4  ...         22.54          16.67           152.20      1575.0   \n",
       "\n",
       "   smoothness_worst  compactness_worst  concavity_worst  concave points_worst  \\\n",
       "0            0.1622             0.6656           0.7119                0.2654   \n",
       "1            0.1238             0.1866           0.2416                0.1860   \n",
       "2            0.1444             0.4245           0.4504                0.2430   \n",
       "3            0.2098             0.8663           0.6869                0.2575   \n",
       "4            0.1374             0.2050           0.4000                0.1625   \n",
       "\n",
       "   symmetry_worst  fractal_dimension_worst  \n",
       "0          0.4601                  0.11890  \n",
       "1          0.2750                  0.08902  \n",
       "2          0.3613                  0.08758  \n",
       "3          0.6638                  0.17300  \n",
       "4          0.2364                  0.07678  \n",
       "\n",
       "[5 rows x 32 columns]"
      ]
     },
     "execution_count": 140,
     "metadata": {},
     "output_type": "execute_result"
    }
   ],
   "source": [
    "\n",
    "dataset.head()"
   ]
  },
  {
   "cell_type": "code",
   "execution_count": 141,
   "id": "5b103381",
   "metadata": {},
   "outputs": [
    {
     "name": "stdout",
     "output_type": "stream",
     "text": [
      "Cancer data set dimensions : (569, 32)\n"
     ]
    }
   ],
   "source": [
    "print(\"Cancer data set dimensions : {}\".format(dataset.shape))\n"
   ]
  },
  {
   "cell_type": "code",
   "execution_count": 142,
   "id": "a6cfaeec",
   "metadata": {},
   "outputs": [
    {
     "data": {
      "text/plain": [
       "id                         0\n",
       "diagnosis                  0\n",
       "radius_mean                0\n",
       "texture_mean               0\n",
       "perimeter_mean             0\n",
       "area_mean                  0\n",
       "smoothness_mean            0\n",
       "compactness_mean           0\n",
       "concavity_mean             0\n",
       "concave points_mean        0\n",
       "symmetry_mean              0\n",
       "fractal_dimension_mean     0\n",
       "radius_se                  0\n",
       "texture_se                 0\n",
       "perimeter_se               0\n",
       "area_se                    0\n",
       "smoothness_se              0\n",
       "compactness_se             0\n",
       "concavity_se               0\n",
       "concave points_se          0\n",
       "symmetry_se                0\n",
       "fractal_dimension_se       0\n",
       "radius_worst               0\n",
       "texture_worst              0\n",
       "perimeter_worst            0\n",
       "area_worst                 0\n",
       "smoothness_worst           0\n",
       "compactness_worst          0\n",
       "concavity_worst            0\n",
       "concave points_worst       0\n",
       "symmetry_worst             0\n",
       "fractal_dimension_worst    0\n",
       "dtype: int64"
      ]
     },
     "execution_count": 142,
     "metadata": {},
     "output_type": "execute_result"
    }
   ],
   "source": [
    "dataset.isnull().sum()\n",
    "dataset.isna().sum()"
   ]
  },
  {
   "cell_type": "code",
   "execution_count": 143,
   "id": "d4fdec47",
   "metadata": {},
   "outputs": [
    {
     "data": {
      "text/plain": [
       "array([1, 1, 1, 1, 1, 1, 1, 1, 1, 1, 1, 1, 1, 1, 1, 1, 1, 1, 1, 0, 0, 0,\n",
       "       1, 1, 1, 1, 1, 1, 1, 1, 1, 1, 1, 1, 1, 1, 1, 0, 1, 1, 1, 1, 1, 1,\n",
       "       1, 1, 0, 1, 0, 0, 0, 0, 0, 1, 1, 0, 1, 1, 0, 0, 0, 0, 1, 0, 1, 1,\n",
       "       0, 0, 0, 0, 1, 0, 1, 1, 0, 1, 0, 1, 1, 0, 0, 0, 1, 1, 0, 1, 1, 1,\n",
       "       0, 0, 0, 1, 0, 0, 1, 1, 0, 0, 0, 1, 1, 0, 0, 0, 0, 1, 0, 0, 1, 0,\n",
       "       0, 0, 0, 0, 0, 0, 0, 1, 1, 1, 0, 1, 1, 0, 0, 0, 1, 1, 0, 1, 0, 1,\n",
       "       1, 0, 1, 1, 0, 0, 1, 0, 0, 1, 0, 0, 0, 0, 1, 0, 0, 0, 0, 0, 0, 0,\n",
       "       0, 0, 1, 0, 0, 0, 0, 1, 1, 0, 1, 0, 0, 1, 1, 0, 0, 1, 1, 0, 0, 0,\n",
       "       0, 1, 0, 0, 1, 1, 1, 0, 1, 0, 1, 0, 0, 0, 1, 0, 0, 1, 1, 0, 1, 1,\n",
       "       1, 1, 0, 1, 1, 1, 0, 1, 0, 1, 0, 0, 1, 0, 1, 1, 1, 1, 0, 0, 1, 1,\n",
       "       0, 0, 0, 1, 0, 0, 0, 0, 0, 1, 1, 0, 0, 1, 0, 0, 1, 1, 0, 1, 0, 0,\n",
       "       0, 0, 1, 0, 0, 0, 0, 0, 1, 0, 1, 1, 1, 1, 1, 1, 1, 1, 1, 1, 1, 1,\n",
       "       1, 1, 0, 0, 0, 0, 0, 0, 1, 0, 1, 0, 0, 1, 0, 0, 1, 0, 1, 1, 0, 0,\n",
       "       0, 0, 0, 0, 0, 0, 0, 0, 0, 0, 0, 1, 0, 0, 1, 0, 1, 0, 0, 0, 0, 0,\n",
       "       0, 0, 0, 0, 0, 0, 0, 0, 0, 1, 0, 0, 0, 1, 0, 1, 0, 0, 0, 0, 1, 1,\n",
       "       1, 0, 0, 0, 0, 1, 0, 1, 0, 1, 0, 0, 0, 1, 0, 0, 0, 0, 0, 0, 0, 1,\n",
       "       1, 1, 0, 0, 0, 0, 0, 0, 0, 0, 0, 0, 0, 1, 1, 0, 1, 1, 1, 0, 1, 1,\n",
       "       0, 0, 0, 0, 0, 1, 0, 0, 0, 0, 0, 1, 0, 0, 0, 1, 0, 0, 1, 1, 0, 0,\n",
       "       0, 0, 0, 0, 1, 0, 0, 0, 0, 0, 0, 0, 1, 0, 0, 0, 0, 0, 1, 0, 0, 1,\n",
       "       0, 0, 0, 0, 0, 0, 0, 0, 0, 0, 0, 0, 1, 0, 1, 1, 0, 1, 0, 0, 0, 0,\n",
       "       0, 1, 0, 0, 1, 0, 1, 0, 0, 1, 0, 1, 0, 0, 0, 0, 0, 0, 0, 0, 1, 1,\n",
       "       0, 0, 0, 0, 0, 0, 1, 0, 0, 0, 0, 0, 0, 0, 0, 0, 0, 1, 0, 0, 0, 0,\n",
       "       0, 0, 0, 1, 0, 1, 0, 0, 1, 0, 0, 0, 0, 0, 1, 1, 0, 1, 0, 1, 0, 0,\n",
       "       0, 0, 0, 1, 0, 0, 1, 0, 1, 0, 1, 1, 0, 0, 0, 1, 0, 0, 0, 0, 0, 0,\n",
       "       0, 0, 0, 0, 0, 1, 0, 1, 1, 0, 0, 0, 0, 0, 0, 0, 0, 0, 0, 0, 0, 0,\n",
       "       0, 0, 0, 0, 0, 0, 0, 0, 0, 0, 0, 0, 1, 1, 1, 1, 1, 1, 0])"
      ]
     },
     "execution_count": 143,
     "metadata": {},
     "output_type": "execute_result"
    }
   ],
   "source": [
    "#Encoding categorical data values\n",
    "from sklearn.preprocessing import LabelEncoder\n",
    "labelencoder_Y = LabelEncoder()\n",
    "Y = labelencoder_Y.fit_transform(Y)\n",
    "Y\n"
   ]
  },
  {
   "cell_type": "code",
   "execution_count": 144,
   "id": "9a5693d9",
   "metadata": {},
   "outputs": [
    {
     "data": {
      "text/plain": [
       "(171,)"
      ]
     },
     "execution_count": 144,
     "metadata": {},
     "output_type": "execute_result"
    }
   ],
   "source": [
    "# Splitting the dataset into the Training set and Test set\n",
    "from sklearn.model_selection import train_test_split\n",
    "X_train, X_test, Y_train, Y_test = train_test_split(X, Y, test_size = 0.30, random_state = 0)\n",
    "Y_test.shape"
   ]
  },
  {
   "cell_type": "code",
   "execution_count": 145,
   "id": "6a2f1519",
   "metadata": {},
   "outputs": [],
   "source": [
    "#Feature Scaling\n",
    "from sklearn.preprocessing import StandardScaler\n",
    "sc = StandardScaler()\n",
    "X_train = sc.fit_transform(X_train)\n",
    "X_test = sc.transform(X_test)"
   ]
  },
  {
   "cell_type": "code",
   "execution_count": 146,
   "id": "00878a93",
   "metadata": {},
   "outputs": [
    {
     "data": {
      "text/plain": [
       "LogisticRegression(random_state=0)"
      ]
     },
     "execution_count": 146,
     "metadata": {},
     "output_type": "execute_result"
    }
   ],
   "source": [
    "#Using Logistic Regression Algorithm to the Training Set\n",
    "from sklearn.linear_model import LogisticRegression\n",
    "classifier = LogisticRegression(random_state = 0)\n",
    "classifier.fit(X_train, Y_train)"
   ]
  },
  {
   "cell_type": "code",
   "execution_count": 147,
   "id": "d57c64ca",
   "metadata": {},
   "outputs": [
    {
     "data": {
      "image/png": "[encoded data removed]",
      "text/plain": [
       "<Figure size 432x288 with 2 Axes>"
      ]
     },
     "metadata": {},
     "output_type": "display_data"
    }
   ],
   "source": [
    "Y_pred = classifier.predict(X_test)\n",
    "from sklearn import metrics\n",
    "confusion_matrix = metrics.confusion_matrix(Y_test, Y_pred)\n",
    "cm_display = metrics.ConfusionMatrixDisplay(confusion_matrix = confusion_matrix, display_labels = [False, True])\n",
    "import matplotlib.pyplot as plt\n",
    "cm_display.plot()\n",
    "plt.show()"
   ]
  },
  {
   "cell_type": "code",
   "execution_count": 148,
   "id": "fdbd4264",
   "metadata": {},
   "outputs": [
    {
     "name": "stdout",
     "output_type": "stream",
     "text": [
      "accuracy score: 0.9766081871345029\n"
     ]
    }
   ],
   "source": [
    "from sklearn.metrics import accuracy_score\n",
    "print(f'accuracy score: {accuracy_score(Y_test, Y_pred)}')"
   ]
  },
  {
   "cell_type": "code",
   "execution_count": 149,
   "id": "5d65c1d9",
   "metadata": {},
   "outputs": [
    {
     "data": {
      "text/plain": [
       "KNeighborsClassifier()"
      ]
     },
     "execution_count": 149,
     "metadata": {},
     "output_type": "execute_result"
    }
   ],
   "source": [
    "#Using KNeighborsClassifier Method of neighbors class to use Nearest Neighbor algorithm\n",
    "from sklearn.neighbors import KNeighborsClassifier\n",
    "classifier = KNeighborsClassifier(n_neighbors = 5, metric = 'minkowski', p = 2)\n",
    "classifier.fit(X_train, Y_train)"
   ]
  },
  {
   "cell_type": "code",
   "execution_count": 150,
   "id": "5e67c388",
   "metadata": {},
   "outputs": [
    {
     "data": {
      "image/png": "[encoded data removed]",
      "text/plain": [
       "<Figure size 432x288 with 2 Axes>"
      ]
     },
     "metadata": {},
     "output_type": "display_data"
    }
   ],
   "source": [
    "Y_pred = classifier.predict(X_test)\n",
    "from sklearn import metrics\n",
    "confusion_matrix = metrics.confusion_matrix(Y_test, Y_pred)\n",
    "cm_display = metrics.ConfusionMatrixDisplay(confusion_matrix = confusion_matrix, display_labels = [False, True])\n",
    "import matplotlib.pyplot as plt\n",
    "cm_display.plot()\n",
    "plt.show()"
   ]
  },
  {
   "cell_type": "code",
   "execution_count": 151,
   "id": "7ba5e072",
   "metadata": {},
   "outputs": [
    {
     "name": "stdout",
     "output_type": "stream",
     "text": [
      "accuracy score: 0.9590643274853801\n"
     ]
    }
   ],
   "source": [
    "from sklearn.metrics import accuracy_score\n",
    "print(f'accuracy score: {accuracy_score(Y_test, Y_pred)}')"
   ]
  },
  {
   "cell_type": "code",
   "execution_count": 152,
   "id": "8ce2b405",
   "metadata": {},
   "outputs": [
    {
     "data": {
      "text/plain": [
       "SVC(kernel='linear', random_state=0)"
      ]
     },
     "execution_count": 152,
     "metadata": {},
     "output_type": "execute_result"
    }
   ],
   "source": [
    "#Using SVC method of svm class to use Support Vector Machine Algorithm\n",
    "from sklearn.svm import SVC\n",
    "classifier = SVC(kernel = 'linear', random_state = 0)\n",
    "classifier.fit(X_train, Y_train)"
   ]
  },
  {
   "cell_type": "code",
   "execution_count": 153,
   "id": "f52377b5",
   "metadata": {},
   "outputs": [
    {
     "data": {
      "image/png": "[encoded data removed]",
      "text/plain": [
       "<Figure size 432x288 with 2 Axes>"
      ]
     },
     "metadata": {},
     "output_type": "display_data"
    }
   ],
   "source": [
    "Y_pred = classifier.predict(X_test)\n",
    "from sklearn import metrics\n",
    "confusion_matrix = metrics.confusion_matrix(Y_test, Y_pred)\n",
    "cm_display = metrics.ConfusionMatrixDisplay(confusion_matrix = confusion_matrix, display_labels = [False, True])\n",
    "import matplotlib.pyplot as plt\n",
    "cm_display.plot()\n",
    "plt.show()"
   ]
  },
  {
   "cell_type": "code",
   "execution_count": 154,
   "id": "8af50ecd",
   "metadata": {},
   "outputs": [
    {
     "name": "stdout",
     "output_type": "stream",
     "text": [
      "accuracy score: 0.9590643274853801\n"
     ]
    }
   ],
   "source": [
    "from sklearn.metrics import accuracy_score\n",
    "print(f'accuracy score: {accuracy_score(Y_test, Y_pred)}')"
   ]
  },
  {
   "cell_type": "code",
   "execution_count": 155,
   "id": "9aae4577",
   "metadata": {},
   "outputs": [
    {
     "data": {
      "text/plain": [
       "SVC(random_state=0)"
      ]
     },
     "execution_count": 155,
     "metadata": {},
     "output_type": "execute_result"
    }
   ],
   "source": [
    "#Using SVC method of svm class to use Kernel SVM Algorithm\n",
    "from sklearn.svm import SVC\n",
    "classifier = SVC(kernel = 'rbf', random_state = 0)\n",
    "classifier.fit(X_train, Y_train)"
   ]
  },
  {
   "cell_type": "code",
   "execution_count": 156,
   "id": "03cd92d7",
   "metadata": {},
   "outputs": [
    {
     "data": {
      "image/png": "[encoded data removed]",
      "text/plain": [
       "<Figure size 432x288 with 2 Axes>"
      ]
     },
     "metadata": {},
     "output_type": "display_data"
    }
   ],
   "source": [
    "Y_pred = classifier.predict(X_test)\n",
    "from sklearn import metrics\n",
    "confusion_matrix = metrics.confusion_matrix(Y_test, Y_pred)\n",
    "cm_display = metrics.ConfusionMatrixDisplay(confusion_matrix = confusion_matrix, display_labels = [False, True])\n",
    "import matplotlib.pyplot as plt\n",
    "cm_display.plot()\n",
    "plt.show()"
   ]
  },
  {
   "cell_type": "code",
   "execution_count": 157,
   "id": "f33b04ce",
   "metadata": {},
   "outputs": [
    {
     "name": "stdout",
     "output_type": "stream",
     "text": [
      "accuracy score: 0.9766081871345029\n"
     ]
    }
   ],
   "source": [
    "from sklearn.metrics import accuracy_score\n",
    "print(f'accuracy score: {accuracy_score(Y_test, Y_pred)}')"
   ]
  },
  {
   "cell_type": "code",
   "execution_count": 158,
   "id": "48e97467",
   "metadata": {},
   "outputs": [
    {
     "data": {
      "text/plain": [
       "GaussianNB()"
      ]
     },
     "execution_count": 158,
     "metadata": {},
     "output_type": "execute_result"
    }
   ],
   "source": [
    "#Using GaussianNB method of naïve_bayes class to use Naïve Bayes Algorithm\n",
    "from sklearn.naive_bayes import GaussianNB\n",
    "classifier = GaussianNB()\n",
    "classifier.fit(X_train, Y_train)"
   ]
  },
  {
   "cell_type": "code",
   "execution_count": 159,
   "id": "0d6084c0",
   "metadata": {},
   "outputs": [
    {
     "data": {
      "image/png": "[encoded data removed]",
      "text/plain": [
       "<Figure size 432x288 with 2 Axes>"
      ]
     },
     "metadata": {},
     "output_type": "display_data"
    }
   ],
   "source": [
    "Y_pred = classifier.predict(X_test)\n",
    "from sklearn import metrics\n",
    "confusion_matrix = metrics.confusion_matrix(Y_test, Y_pred)\n",
    "cm_display = metrics.ConfusionMatrixDisplay(confusion_matrix = confusion_matrix, display_labels = [False, True])\n",
    "import matplotlib.pyplot as plt\n",
    "cm_display.plot()\n",
    "plt.show()"
   ]
  },
  {
   "cell_type": "code",
   "execution_count": 160,
   "id": "46965dd9",
   "metadata": {},
   "outputs": [
    {
     "name": "stdout",
     "output_type": "stream",
     "text": [
      "accuracy score: 0.9122807017543859\n"
     ]
    }
   ],
   "source": [
    "from sklearn.metrics import accuracy_score\n",
    "print(f'accuracy score: {accuracy_score(Y_test, Y_pred)}')"
   ]
  },
  {
   "cell_type": "code",
   "execution_count": 161,
   "id": "16b997f3",
   "metadata": {},
   "outputs": [
    {
     "data": {
      "text/plain": [
       "DecisionTreeClassifier(criterion='entropy', random_state=0)"
      ]
     },
     "execution_count": 161,
     "metadata": {},
     "output_type": "execute_result"
    }
   ],
   "source": [
    "#Using DecisionTreeClassifier of tree class to use Decision Tree Algorithm\n",
    "\n",
    "from sklearn.tree import DecisionTreeClassifier\n",
    "classifier = DecisionTreeClassifier(criterion = 'entropy', random_state = 0)\n",
    "classifier.fit(X_train, Y_train)"
   ]
  },
  {
   "cell_type": "code",
   "execution_count": 162,
   "id": "6fff5a07",
   "metadata": {},
   "outputs": [
    {
     "data": {
      "image/png": "[encoded data removed]",
      "text/plain": [
       "<Figure size 432x288 with 2 Axes>"
      ]
     },
     "metadata": {},
     "output_type": "display_data"
    }
   ],
   "source": [
    "Y_pred = classifier.predict(X_test)\n",
    "from sklearn import metrics\n",
    "confusion_matrix = metrics.confusion_matrix(Y_test, Y_pred)\n",
    "cm_display = metrics.ConfusionMatrixDisplay(confusion_matrix = confusion_matrix, display_labels = [False, True])\n",
    "import matplotlib.pyplot as plt\n",
    "cm_display.plot()\n",
    "plt.show()"
   ]
  },
  {
   "cell_type": "code",
   "execution_count": 163,
   "id": "00d6c8f2",
   "metadata": {},
   "outputs": [
    {
     "name": "stdout",
     "output_type": "stream",
     "text": [
      "accuracy score: 0.935672514619883\n"
     ]
    }
   ],
   "source": [
    "from sklearn.metrics import accuracy_score\n",
    "print(f'accuracy score: {accuracy_score(Y_test, Y_pred)}')"
   ]
  },
  {
   "cell_type": "code",
   "execution_count": 164,
   "id": "e7b24698",
   "metadata": {},
   "outputs": [
    {
     "data": {
      "text/plain": [
       "RandomForestClassifier(criterion='entropy', n_estimators=10, random_state=0)"
      ]
     },
     "execution_count": 164,
     "metadata": {},
     "output_type": "execute_result"
    }
   ],
   "source": [
    "#Using RandomForestClassifier method of ensemble class to use Random Forest Classification algorithm\n",
    "\n",
    "from sklearn.ensemble import RandomForestClassifier\n",
    "classifier = RandomForestClassifier(n_estimators = 10, criterion = 'entropy', random_state = 0)\n",
    "classifier.fit(X_train, Y_train)\n"
   ]
  },
  {
   "cell_type": "code",
   "execution_count": 165,
   "id": "df7ae5eb",
   "metadata": {},
   "outputs": [],
   "source": [
    "Y_pred = classifier.predict(X_test)"
   ]
  },
  {
   "cell_type": "code",
   "execution_count": 166,
   "id": "413a9cca",
   "metadata": {},
   "outputs": [
    {
     "data": {
      "image/png": "[encoded data removed]",
      "text/plain": [
       "<Figure size 432x288 with 2 Axes>"
      ]
     },
     "metadata": {},
     "output_type": "display_data"
    }
   ],
   "source": [
    "from sklearn import metrics\n",
    "confusion_matrix = metrics.confusion_matrix(Y_test, Y_pred)\n",
    "cm_display = metrics.ConfusionMatrixDisplay(confusion_matrix = confusion_matrix, display_labels = [False, True])\n",
    "import matplotlib.pyplot as plt\n",
    "cm_display.plot()\n",
    "plt.show()\n"
   ]
  },
  {
   "cell_type": "code",
   "execution_count": 167,
   "id": "9d7b5249",
   "metadata": {},
   "outputs": [
    {
     "name": "stdout",
     "output_type": "stream",
     "text": [
      "accuracy score: 0.9649122807017544\n"
     ]
    }
   ],
   "source": [
    "from sklearn.metrics import accuracy_score\n",
    "print(f'accuracy score: {accuracy_score(Y_test, Y_pred)}')"
   ]
  },
  {
   "cell_type": "code",
   "execution_count": 168,
   "id": "9aa0994d",
   "metadata": {},
   "outputs": [
    {
     "name": "stdout",
     "output_type": "stream",
     "text": [
      "Model: \"sequential_2\"\n",
      "_________________________________________________________________\n",
      " Layer (type)                Output Shape              Param #   \n",
      "=================================================================\n",
      " dense_6 (Dense)             (None, 16)                496       \n",
      "                                                                 \n",
      " dropout_4 (Dropout)         (None, 16)                0         \n",
      "                                                                 \n",
      " dense_7 (Dense)             (None, 16)                272       \n",
      "                                                                 \n",
      " dropout_5 (Dropout)         (None, 16)                0         \n",
      "                                                                 \n",
      " dense_8 (Dense)             (None, 1)                 17        \n",
      "                                                                 \n",
      "=================================================================\n",
      "Total params: 785\n",
      "Trainable params: 785\n",
      "Non-trainable params: 0\n",
      "_________________________________________________________________\n"
     ]
    }
   ],
   "source": [
    "from tensorflow.keras.layers import Dense , Dropout\n",
    "from tensorflow.keras.models import Sequential\n",
    "\n",
    "model = Sequential()\n",
    "model.add(Dense(16, activation='relu', input_dim=30))\n",
    "model.add(Dropout(0.1))\n",
    "\n",
    "model.add(Dense(16, activation='relu'))\n",
    "model.add(Dropout(0.1))\n",
    "\n",
    "model.add(Dense(1, activation='sigmoid'))\n",
    "\n",
    "model.compile(optimizer='adam', loss='binary_crossentropy', metrics=['accuracy'])\n",
    "model.summary()"
   ]
  },
  {
   "cell_type": "code",
   "execution_count": 169,
   "id": "12044739",
   "metadata": {},
   "outputs": [
    {
     "name": "stdout",
     "output_type": "stream",
     "text": [
      "Epoch 1/150\n",
      "10/10 [==============================] - 1s 23ms/step - loss: 0.7913 - accuracy: 0.4371 - val_loss: 0.6793 - val_accuracy: 0.4250\n",
      "Epoch 2/150\n",
      "10/10 [==============================] - 0s 7ms/step - loss: 0.6846 - accuracy: 0.4811 - val_loss: 0.5937 - val_accuracy: 0.5125\n",
      "Epoch 3/150\n",
      "10/10 [==============================] - 0s 6ms/step - loss: 0.5925 - accuracy: 0.6509 - val_loss: 0.5258 - val_accuracy: 0.7125\n",
      "Epoch 4/150\n",
      "10/10 [==============================] - 0s 7ms/step - loss: 0.5351 - accuracy: 0.7610 - val_loss: 0.4732 - val_accuracy: 0.8250\n",
      "Epoch 5/150\n",
      "10/10 [==============================] - 0s 5ms/step - loss: 0.4761 - accuracy: 0.8711 - val_loss: 0.4263 - val_accuracy: 0.9000\n",
      "Epoch 6/150\n",
      "10/10 [==============================] - 0s 7ms/step - loss: 0.4442 - accuracy: 0.8742 - val_loss: 0.3818 - val_accuracy: 0.9250\n",
      "Epoch 7/150\n",
      "10/10 [==============================] - 0s 7ms/step - loss: 0.3989 - accuracy: 0.9340 - val_loss: 0.3396 - val_accuracy: 0.9375\n",
      "Epoch 8/150\n",
      "10/10 [==============================] - 0s 7ms/step - loss: 0.3547 - accuracy: 0.9277 - val_loss: 0.3009 - val_accuracy: 0.9500\n",
      "Epoch 9/150\n",
      "10/10 [==============================] - 0s 8ms/step - loss: 0.3051 - accuracy: 0.9308 - val_loss: 0.2633 - val_accuracy: 0.9500\n",
      "Epoch 10/150\n",
      "10/10 [==============================] - 0s 6ms/step - loss: 0.2764 - accuracy: 0.9528 - val_loss: 0.2300 - val_accuracy: 0.9750\n",
      "Epoch 11/150\n",
      "10/10 [==============================] - 0s 8ms/step - loss: 0.2513 - accuracy: 0.9465 - val_loss: 0.2001 - val_accuracy: 0.9875\n",
      "Epoch 12/150\n",
      "10/10 [==============================] - 0s 7ms/step - loss: 0.2230 - accuracy: 0.9465 - val_loss: 0.1740 - val_accuracy: 0.9875\n",
      "Epoch 13/150\n",
      "10/10 [==============================] - 0s 8ms/step - loss: 0.2025 - accuracy: 0.9497 - val_loss: 0.1545 - val_accuracy: 0.9875\n",
      "Epoch 14/150\n",
      "10/10 [==============================] - 0s 7ms/step - loss: 0.1931 - accuracy: 0.9591 - val_loss: 0.1384 - val_accuracy: 0.9875\n",
      "Epoch 15/150\n",
      "10/10 [==============================] - 0s 8ms/step - loss: 0.1804 - accuracy: 0.9528 - val_loss: 0.1254 - val_accuracy: 0.9875\n",
      "Epoch 16/150\n",
      "10/10 [==============================] - 0s 8ms/step - loss: 0.1622 - accuracy: 0.9591 - val_loss: 0.1141 - val_accuracy: 0.9875\n",
      "Epoch 17/150\n",
      "10/10 [==============================] - 0s 6ms/step - loss: 0.1488 - accuracy: 0.9497 - val_loss: 0.1046 - val_accuracy: 0.9750\n",
      "Epoch 18/150\n",
      "10/10 [==============================] - 0s 8ms/step - loss: 0.1325 - accuracy: 0.9717 - val_loss: 0.0968 - val_accuracy: 0.9750\n",
      "Epoch 19/150\n",
      "10/10 [==============================] - 0s 8ms/step - loss: 0.1311 - accuracy: 0.9623 - val_loss: 0.0903 - val_accuracy: 0.9750\n",
      "Epoch 20/150\n",
      "10/10 [==============================] - 0s 8ms/step - loss: 0.1223 - accuracy: 0.9623 - val_loss: 0.0853 - val_accuracy: 0.9750\n",
      "Epoch 21/150\n",
      "10/10 [==============================] - 0s 10ms/step - loss: 0.1245 - accuracy: 0.9654 - val_loss: 0.0817 - val_accuracy: 0.9750\n",
      "Epoch 22/150\n",
      "10/10 [==============================] - 0s 9ms/step - loss: 0.1093 - accuracy: 0.9686 - val_loss: 0.0779 - val_accuracy: 0.9750\n",
      "Epoch 23/150\n",
      "10/10 [==============================] - 0s 10ms/step - loss: 0.1077 - accuracy: 0.9717 - val_loss: 0.0747 - val_accuracy: 0.9750\n",
      "Epoch 24/150\n",
      "10/10 [==============================] - 0s 8ms/step - loss: 0.1032 - accuracy: 0.9748 - val_loss: 0.0722 - val_accuracy: 0.9750\n",
      "Epoch 25/150\n",
      "10/10 [==============================] - 0s 8ms/step - loss: 0.1098 - accuracy: 0.9717 - val_loss: 0.0692 - val_accuracy: 0.9750\n",
      "Epoch 26/150\n",
      "10/10 [==============================] - 0s 7ms/step - loss: 0.0950 - accuracy: 0.9780 - val_loss: 0.0665 - val_accuracy: 0.9750\n",
      "Epoch 27/150\n",
      "10/10 [==============================] - 0s 9ms/step - loss: 0.0897 - accuracy: 0.9748 - val_loss: 0.0642 - val_accuracy: 0.9750\n",
      "Epoch 28/150\n",
      "10/10 [==============================] - 0s 8ms/step - loss: 0.0928 - accuracy: 0.9717 - val_loss: 0.0630 - val_accuracy: 0.9750\n",
      "Epoch 29/150\n",
      "10/10 [==============================] - 0s 8ms/step - loss: 0.0937 - accuracy: 0.9780 - val_loss: 0.0614 - val_accuracy: 0.9750\n",
      "Epoch 30/150\n",
      "10/10 [==============================] - 0s 7ms/step - loss: 0.0916 - accuracy: 0.9780 - val_loss: 0.0601 - val_accuracy: 0.9875\n",
      "Epoch 31/150\n",
      "10/10 [==============================] - 0s 8ms/step - loss: 0.0862 - accuracy: 0.9748 - val_loss: 0.0585 - val_accuracy: 0.9875\n",
      "Epoch 32/150\n",
      "10/10 [==============================] - 0s 5ms/step - loss: 0.0732 - accuracy: 0.9843 - val_loss: 0.0571 - val_accuracy: 0.9875\n",
      "Epoch 33/150\n",
      "10/10 [==============================] - 0s 7ms/step - loss: 0.0763 - accuracy: 0.9843 - val_loss: 0.0558 - val_accuracy: 0.9875\n",
      "Epoch 34/150\n",
      "10/10 [==============================] - 0s 8ms/step - loss: 0.0843 - accuracy: 0.9748 - val_loss: 0.0549 - val_accuracy: 0.9875\n",
      "Epoch 35/150\n",
      "10/10 [==============================] - 0s 7ms/step - loss: 0.0920 - accuracy: 0.9748 - val_loss: 0.0536 - val_accuracy: 0.9875\n",
      "Epoch 36/150\n",
      "10/10 [==============================] - 0s 6ms/step - loss: 0.0781 - accuracy: 0.9811 - val_loss: 0.0534 - val_accuracy: 0.9875\n",
      "Epoch 37/150\n",
      "10/10 [==============================] - 0s 9ms/step - loss: 0.0746 - accuracy: 0.9748 - val_loss: 0.0527 - val_accuracy: 0.9875\n",
      "Epoch 38/150\n",
      "10/10 [==============================] - 0s 8ms/step - loss: 0.0861 - accuracy: 0.9748 - val_loss: 0.0530 - val_accuracy: 0.9875\n",
      "Epoch 39/150\n",
      "10/10 [==============================] - 0s 9ms/step - loss: 0.0755 - accuracy: 0.9748 - val_loss: 0.0521 - val_accuracy: 0.9875\n",
      "Epoch 40/150\n",
      "10/10 [==============================] - 0s 6ms/step - loss: 0.0783 - accuracy: 0.9843 - val_loss: 0.0521 - val_accuracy: 0.9875\n",
      "Epoch 41/150\n",
      "10/10 [==============================] - 0s 5ms/step - loss: 0.0754 - accuracy: 0.9811 - val_loss: 0.0513 - val_accuracy: 0.9875\n",
      "Epoch 42/150\n",
      "10/10 [==============================] - 0s 5ms/step - loss: 0.0690 - accuracy: 0.9843 - val_loss: 0.0510 - val_accuracy: 0.9875\n",
      "Epoch 43/150\n",
      "10/10 [==============================] - 0s 7ms/step - loss: 0.0723 - accuracy: 0.9811 - val_loss: 0.0509 - val_accuracy: 0.9875\n",
      "Epoch 44/150\n",
      "10/10 [==============================] - 0s 7ms/step - loss: 0.0682 - accuracy: 0.9780 - val_loss: 0.0504 - val_accuracy: 0.9875\n",
      "Epoch 45/150\n",
      "10/10 [==============================] - 0s 6ms/step - loss: 0.0604 - accuracy: 0.9780 - val_loss: 0.0501 - val_accuracy: 0.9875\n",
      "Epoch 46/150\n",
      "10/10 [==============================] - 0s 7ms/step - loss: 0.0707 - accuracy: 0.9811 - val_loss: 0.0499 - val_accuracy: 0.9875\n",
      "Epoch 47/150\n",
      "10/10 [==============================] - 0s 9ms/step - loss: 0.0726 - accuracy: 0.9843 - val_loss: 0.0500 - val_accuracy: 0.9875\n",
      "Epoch 48/150\n",
      "10/10 [==============================] - 0s 5ms/step - loss: 0.0706 - accuracy: 0.9780 - val_loss: 0.0503 - val_accuracy: 0.9875\n",
      "Epoch 49/150\n",
      "10/10 [==============================] - 0s 7ms/step - loss: 0.0645 - accuracy: 0.9874 - val_loss: 0.0510 - val_accuracy: 0.9875\n",
      "Epoch 50/150\n",
      "10/10 [==============================] - 0s 7ms/step - loss: 0.0658 - accuracy: 0.9874 - val_loss: 0.0507 - val_accuracy: 0.9875\n",
      "Epoch 51/150\n",
      "10/10 [==============================] - 0s 6ms/step - loss: 0.0704 - accuracy: 0.9811 - val_loss: 0.0524 - val_accuracy: 0.9875\n",
      "Epoch 52/150\n",
      "10/10 [==============================] - 0s 5ms/step - loss: 0.0544 - accuracy: 0.9874 - val_loss: 0.0533 - val_accuracy: 0.9875\n",
      "Epoch 53/150\n",
      "10/10 [==============================] - 0s 5ms/step - loss: 0.0602 - accuracy: 0.9811 - val_loss: 0.0547 - val_accuracy: 0.9875\n",
      "Epoch 54/150\n",
      "10/10 [==============================] - 0s 5ms/step - loss: 0.0586 - accuracy: 0.9874 - val_loss: 0.0561 - val_accuracy: 0.9875\n",
      "Epoch 55/150\n",
      "10/10 [==============================] - 0s 7ms/step - loss: 0.0589 - accuracy: 0.9843 - val_loss: 0.0563 - val_accuracy: 0.9875\n",
      "Epoch 56/150\n",
      "10/10 [==============================] - 0s 7ms/step - loss: 0.0638 - accuracy: 0.9811 - val_loss: 0.0554 - val_accuracy: 0.9875\n",
      "Epoch 57/150\n",
      "10/10 [==============================] - 0s 8ms/step - loss: 0.0607 - accuracy: 0.9843 - val_loss: 0.0550 - val_accuracy: 0.9875\n",
      "Epoch 58/150\n",
      "10/10 [==============================] - 0s 6ms/step - loss: 0.0637 - accuracy: 0.9811 - val_loss: 0.0552 - val_accuracy: 0.9875\n"
     ]
    },
    {
     "name": "stdout",
     "output_type": "stream",
     "text": [
      "Epoch 59/150\n",
      "10/10 [==============================] - 0s 8ms/step - loss: 0.0578 - accuracy: 0.9811 - val_loss: 0.0546 - val_accuracy: 0.9875\n",
      "Epoch 60/150\n",
      "10/10 [==============================] - 0s 6ms/step - loss: 0.0548 - accuracy: 0.9874 - val_loss: 0.0544 - val_accuracy: 0.9875\n",
      "Epoch 61/150\n",
      "10/10 [==============================] - 0s 6ms/step - loss: 0.0520 - accuracy: 0.9874 - val_loss: 0.0547 - val_accuracy: 0.9875\n",
      "Epoch 62/150\n",
      "10/10 [==============================] - 0s 8ms/step - loss: 0.0546 - accuracy: 0.9843 - val_loss: 0.0556 - val_accuracy: 0.9875\n",
      "Epoch 63/150\n",
      "10/10 [==============================] - 0s 8ms/step - loss: 0.0571 - accuracy: 0.9874 - val_loss: 0.0545 - val_accuracy: 0.9875\n",
      "Epoch 64/150\n",
      "10/10 [==============================] - 0s 7ms/step - loss: 0.0520 - accuracy: 0.9874 - val_loss: 0.0551 - val_accuracy: 0.9875\n",
      "Epoch 65/150\n",
      "10/10 [==============================] - 0s 8ms/step - loss: 0.0575 - accuracy: 0.9874 - val_loss: 0.0547 - val_accuracy: 0.9875\n",
      "Epoch 66/150\n",
      "10/10 [==============================] - 0s 6ms/step - loss: 0.0592 - accuracy: 0.9843 - val_loss: 0.0542 - val_accuracy: 0.9875\n",
      "Epoch 67/150\n",
      "10/10 [==============================] - 0s 10ms/step - loss: 0.0549 - accuracy: 0.9874 - val_loss: 0.0550 - val_accuracy: 0.9875\n",
      "Epoch 68/150\n",
      "10/10 [==============================] - 0s 7ms/step - loss: 0.0519 - accuracy: 0.9906 - val_loss: 0.0536 - val_accuracy: 0.9875\n",
      "Epoch 69/150\n",
      "10/10 [==============================] - 0s 9ms/step - loss: 0.0578 - accuracy: 0.9843 - val_loss: 0.0527 - val_accuracy: 0.9875\n",
      "Epoch 70/150\n",
      "10/10 [==============================] - 0s 7ms/step - loss: 0.0448 - accuracy: 0.9906 - val_loss: 0.0538 - val_accuracy: 0.9875\n",
      "Epoch 71/150\n",
      "10/10 [==============================] - 0s 5ms/step - loss: 0.0432 - accuracy: 0.9906 - val_loss: 0.0534 - val_accuracy: 0.9875\n",
      "Epoch 72/150\n",
      "10/10 [==============================] - 0s 7ms/step - loss: 0.0504 - accuracy: 0.9874 - val_loss: 0.0537 - val_accuracy: 0.9875\n",
      "Epoch 73/150\n",
      "10/10 [==============================] - 0s 8ms/step - loss: 0.0479 - accuracy: 0.9874 - val_loss: 0.0533 - val_accuracy: 0.9875\n",
      "Epoch 74/150\n",
      "10/10 [==============================] - 0s 11ms/step - loss: 0.0472 - accuracy: 0.9874 - val_loss: 0.0526 - val_accuracy: 0.9875\n",
      "Epoch 75/150\n",
      "10/10 [==============================] - 0s 10ms/step - loss: 0.0457 - accuracy: 0.9906 - val_loss: 0.0516 - val_accuracy: 0.9875\n",
      "Epoch 76/150\n",
      "10/10 [==============================] - 0s 7ms/step - loss: 0.0409 - accuracy: 0.9937 - val_loss: 0.0525 - val_accuracy: 0.9875\n",
      "Epoch 77/150\n",
      "10/10 [==============================] - 0s 7ms/step - loss: 0.0549 - accuracy: 0.9843 - val_loss: 0.0522 - val_accuracy: 0.9875\n",
      "Epoch 78/150\n",
      "10/10 [==============================] - 0s 7ms/step - loss: 0.0455 - accuracy: 0.9843 - val_loss: 0.0527 - val_accuracy: 0.9875\n",
      "Epoch 79/150\n",
      "10/10 [==============================] - 0s 6ms/step - loss: 0.0441 - accuracy: 0.9843 - val_loss: 0.0525 - val_accuracy: 0.9875\n",
      "Epoch 80/150\n",
      "10/10 [==============================] - 0s 5ms/step - loss: 0.0432 - accuracy: 0.9843 - val_loss: 0.0519 - val_accuracy: 0.9875\n",
      "Epoch 81/150\n",
      "10/10 [==============================] - 0s 6ms/step - loss: 0.0402 - accuracy: 0.9937 - val_loss: 0.0534 - val_accuracy: 0.9875\n",
      "Epoch 82/150\n",
      "10/10 [==============================] - 0s 8ms/step - loss: 0.0439 - accuracy: 0.9874 - val_loss: 0.0522 - val_accuracy: 0.9875\n",
      "Epoch 83/150\n",
      "10/10 [==============================] - 0s 7ms/step - loss: 0.0449 - accuracy: 0.9937 - val_loss: 0.0506 - val_accuracy: 0.9875\n",
      "Epoch 84/150\n",
      "10/10 [==============================] - 0s 7ms/step - loss: 0.0375 - accuracy: 0.9906 - val_loss: 0.0505 - val_accuracy: 0.9875\n",
      "Epoch 85/150\n",
      "10/10 [==============================] - 0s 9ms/step - loss: 0.0450 - accuracy: 0.9874 - val_loss: 0.0499 - val_accuracy: 0.9875\n",
      "Epoch 86/150\n",
      "10/10 [==============================] - 0s 9ms/step - loss: 0.0426 - accuracy: 0.9906 - val_loss: 0.0484 - val_accuracy: 0.9875\n",
      "Epoch 87/150\n",
      "10/10 [==============================] - 0s 7ms/step - loss: 0.0406 - accuracy: 0.9874 - val_loss: 0.0469 - val_accuracy: 0.9875\n",
      "Epoch 88/150\n",
      "10/10 [==============================] - 0s 8ms/step - loss: 0.0467 - accuracy: 0.9906 - val_loss: 0.0484 - val_accuracy: 0.9875\n",
      "Epoch 89/150\n",
      "10/10 [==============================] - 0s 9ms/step - loss: 0.0410 - accuracy: 0.9874 - val_loss: 0.0479 - val_accuracy: 0.9875\n",
      "Epoch 90/150\n",
      "10/10 [==============================] - 0s 8ms/step - loss: 0.0404 - accuracy: 0.9874 - val_loss: 0.0464 - val_accuracy: 0.9875\n",
      "Epoch 91/150\n",
      "10/10 [==============================] - 0s 7ms/step - loss: 0.0423 - accuracy: 0.9906 - val_loss: 0.0457 - val_accuracy: 0.9875\n",
      "Epoch 92/150\n",
      "10/10 [==============================] - 0s 9ms/step - loss: 0.0306 - accuracy: 0.9874 - val_loss: 0.0439 - val_accuracy: 0.9875\n",
      "Epoch 93/150\n",
      "10/10 [==============================] - 0s 8ms/step - loss: 0.0345 - accuracy: 0.9906 - val_loss: 0.0436 - val_accuracy: 0.9875\n",
      "Epoch 94/150\n",
      "10/10 [==============================] - 0s 7ms/step - loss: 0.0386 - accuracy: 0.9874 - val_loss: 0.0447 - val_accuracy: 0.9875\n",
      "Epoch 95/150\n",
      "10/10 [==============================] - 0s 7ms/step - loss: 0.0423 - accuracy: 0.9874 - val_loss: 0.0452 - val_accuracy: 0.9875\n",
      "Epoch 96/150\n",
      "10/10 [==============================] - 0s 7ms/step - loss: 0.0449 - accuracy: 0.9874 - val_loss: 0.0460 - val_accuracy: 0.9875\n",
      "Epoch 97/150\n",
      "10/10 [==============================] - 0s 6ms/step - loss: 0.0360 - accuracy: 0.9937 - val_loss: 0.0459 - val_accuracy: 0.9875\n",
      "Epoch 98/150\n",
      "10/10 [==============================] - 0s 8ms/step - loss: 0.0339 - accuracy: 0.9906 - val_loss: 0.0463 - val_accuracy: 0.9875\n",
      "Epoch 99/150\n",
      "10/10 [==============================] - 0s 8ms/step - loss: 0.0297 - accuracy: 0.9906 - val_loss: 0.0463 - val_accuracy: 0.9875\n",
      "Epoch 100/150\n",
      "10/10 [==============================] - 0s 9ms/step - loss: 0.0319 - accuracy: 0.9906 - val_loss: 0.0468 - val_accuracy: 0.9875\n",
      "Epoch 101/150\n",
      "10/10 [==============================] - 0s 9ms/step - loss: 0.0304 - accuracy: 0.9937 - val_loss: 0.0462 - val_accuracy: 0.9875\n",
      "Epoch 102/150\n",
      "10/10 [==============================] - 0s 7ms/step - loss: 0.0435 - accuracy: 0.9843 - val_loss: 0.0446 - val_accuracy: 0.9875\n",
      "Epoch 103/150\n",
      "10/10 [==============================] - 0s 8ms/step - loss: 0.0306 - accuracy: 0.9937 - val_loss: 0.0445 - val_accuracy: 0.9875\n",
      "Epoch 104/150\n",
      "10/10 [==============================] - 0s 7ms/step - loss: 0.0337 - accuracy: 0.9937 - val_loss: 0.0439 - val_accuracy: 0.9875\n",
      "Epoch 105/150\n",
      "10/10 [==============================] - 0s 8ms/step - loss: 0.0261 - accuracy: 0.9906 - val_loss: 0.0447 - val_accuracy: 0.9875\n",
      "Epoch 106/150\n",
      "10/10 [==============================] - 0s 6ms/step - loss: 0.0366 - accuracy: 0.9906 - val_loss: 0.0455 - val_accuracy: 0.9875\n",
      "Epoch 107/150\n",
      "10/10 [==============================] - 0s 8ms/step - loss: 0.0358 - accuracy: 0.9906 - val_loss: 0.0444 - val_accuracy: 0.9875\n",
      "Epoch 108/150\n",
      "10/10 [==============================] - 0s 10ms/step - loss: 0.0269 - accuracy: 0.9906 - val_loss: 0.0444 - val_accuracy: 0.9875\n",
      "Epoch 109/150\n",
      "10/10 [==============================] - 0s 7ms/step - loss: 0.0298 - accuracy: 0.9906 - val_loss: 0.0444 - val_accuracy: 0.9875\n",
      "Epoch 110/150\n",
      "10/10 [==============================] - 0s 7ms/step - loss: 0.0347 - accuracy: 0.9937 - val_loss: 0.0458 - val_accuracy: 0.9875\n",
      "Epoch 111/150\n",
      "10/10 [==============================] - 0s 7ms/step - loss: 0.0346 - accuracy: 0.9874 - val_loss: 0.0468 - val_accuracy: 0.9875\n",
      "Epoch 112/150\n",
      "10/10 [==============================] - 0s 7ms/step - loss: 0.0276 - accuracy: 0.9906 - val_loss: 0.0445 - val_accuracy: 0.9875\n",
      "Epoch 113/150\n",
      "10/10 [==============================] - 0s 8ms/step - loss: 0.0267 - accuracy: 0.9906 - val_loss: 0.0440 - val_accuracy: 0.9875\n",
      "Epoch 114/150\n",
      "10/10 [==============================] - 0s 8ms/step - loss: 0.0284 - accuracy: 0.9906 - val_loss: 0.0439 - val_accuracy: 0.9875\n",
      "Epoch 115/150\n",
      "10/10 [==============================] - 0s 10ms/step - loss: 0.0325 - accuracy: 0.9906 - val_loss: 0.0443 - val_accuracy: 0.9875\n",
      "Epoch 116/150\n"
     ]
    },
    {
     "name": "stdout",
     "output_type": "stream",
     "text": [
      "10/10 [==============================] - 0s 9ms/step - loss: 0.0287 - accuracy: 0.9906 - val_loss: 0.0442 - val_accuracy: 0.9875\n",
      "Epoch 117/150\n",
      "10/10 [==============================] - 0s 8ms/step - loss: 0.0253 - accuracy: 0.9906 - val_loss: 0.0438 - val_accuracy: 0.9875\n",
      "Epoch 118/150\n",
      "10/10 [==============================] - 0s 8ms/step - loss: 0.0299 - accuracy: 0.9906 - val_loss: 0.0427 - val_accuracy: 0.9875\n",
      "Epoch 119/150\n",
      "10/10 [==============================] - 0s 7ms/step - loss: 0.0242 - accuracy: 0.9937 - val_loss: 0.0420 - val_accuracy: 0.9875\n",
      "Epoch 120/150\n",
      "10/10 [==============================] - 0s 8ms/step - loss: 0.0298 - accuracy: 0.9937 - val_loss: 0.0420 - val_accuracy: 0.9875\n",
      "Epoch 121/150\n",
      "10/10 [==============================] - 0s 8ms/step - loss: 0.0236 - accuracy: 0.9937 - val_loss: 0.0433 - val_accuracy: 0.9875\n",
      "Epoch 122/150\n",
      "10/10 [==============================] - 0s 9ms/step - loss: 0.0252 - accuracy: 0.9906 - val_loss: 0.0436 - val_accuracy: 0.9875\n",
      "Epoch 123/150\n",
      "10/10 [==============================] - 0s 10ms/step - loss: 0.0301 - accuracy: 0.9906 - val_loss: 0.0442 - val_accuracy: 0.9875\n",
      "Epoch 124/150\n",
      "10/10 [==============================] - 0s 10ms/step - loss: 0.0263 - accuracy: 0.9937 - val_loss: 0.0450 - val_accuracy: 0.9875\n",
      "Epoch 125/150\n",
      "10/10 [==============================] - 0s 9ms/step - loss: 0.0293 - accuracy: 0.9874 - val_loss: 0.0445 - val_accuracy: 0.9875\n",
      "Epoch 126/150\n",
      "10/10 [==============================] - 0s 6ms/step - loss: 0.0260 - accuracy: 0.9906 - val_loss: 0.0436 - val_accuracy: 0.9875\n",
      "Epoch 127/150\n",
      "10/10 [==============================] - 0s 7ms/step - loss: 0.0269 - accuracy: 0.9874 - val_loss: 0.0442 - val_accuracy: 0.9875\n",
      "Epoch 128/150\n",
      "10/10 [==============================] - 0s 7ms/step - loss: 0.0249 - accuracy: 0.9937 - val_loss: 0.0439 - val_accuracy: 0.9875\n",
      "Epoch 129/150\n",
      "10/10 [==============================] - 0s 6ms/step - loss: 0.0222 - accuracy: 0.9906 - val_loss: 0.0434 - val_accuracy: 0.9875\n",
      "Epoch 130/150\n",
      "10/10 [==============================] - 0s 6ms/step - loss: 0.0245 - accuracy: 0.9906 - val_loss: 0.0440 - val_accuracy: 0.9875\n",
      "Epoch 131/150\n",
      "10/10 [==============================] - 0s 8ms/step - loss: 0.0217 - accuracy: 0.9969 - val_loss: 0.0421 - val_accuracy: 0.9875\n",
      "Epoch 132/150\n",
      "10/10 [==============================] - 0s 6ms/step - loss: 0.0207 - accuracy: 0.9937 - val_loss: 0.0426 - val_accuracy: 0.9875\n",
      "Epoch 133/150\n",
      "10/10 [==============================] - 0s 11ms/step - loss: 0.0284 - accuracy: 0.9906 - val_loss: 0.0434 - val_accuracy: 0.9875\n",
      "Epoch 134/150\n",
      "10/10 [==============================] - 0s 6ms/step - loss: 0.0348 - accuracy: 0.9780 - val_loss: 0.0442 - val_accuracy: 0.9875\n",
      "Epoch 135/150\n",
      "10/10 [==============================] - 0s 6ms/step - loss: 0.0269 - accuracy: 0.9906 - val_loss: 0.0445 - val_accuracy: 0.9875\n",
      "Epoch 136/150\n",
      "10/10 [==============================] - 0s 6ms/step - loss: 0.0304 - accuracy: 0.9906 - val_loss: 0.0431 - val_accuracy: 0.9875\n",
      "Epoch 137/150\n",
      "10/10 [==============================] - 0s 6ms/step - loss: 0.0238 - accuracy: 0.9906 - val_loss: 0.0413 - val_accuracy: 0.9875\n",
      "Epoch 138/150\n",
      "10/10 [==============================] - 0s 7ms/step - loss: 0.0291 - accuracy: 0.9906 - val_loss: 0.0399 - val_accuracy: 0.9875\n",
      "Epoch 139/150\n",
      "10/10 [==============================] - 0s 6ms/step - loss: 0.0231 - accuracy: 0.9906 - val_loss: 0.0409 - val_accuracy: 0.9875\n",
      "Epoch 140/150\n",
      "10/10 [==============================] - 0s 7ms/step - loss: 0.0240 - accuracy: 0.9906 - val_loss: 0.0432 - val_accuracy: 0.9875\n",
      "Epoch 141/150\n",
      "10/10 [==============================] - 0s 9ms/step - loss: 0.0225 - accuracy: 0.9906 - val_loss: 0.0449 - val_accuracy: 0.9875\n",
      "Epoch 142/150\n",
      "10/10 [==============================] - 0s 10ms/step - loss: 0.0291 - accuracy: 0.9906 - val_loss: 0.0440 - val_accuracy: 0.9875\n",
      "Epoch 143/150\n",
      "10/10 [==============================] - 0s 10ms/step - loss: 0.0239 - accuracy: 0.9906 - val_loss: 0.0439 - val_accuracy: 0.9875\n",
      "Epoch 144/150\n",
      "10/10 [==============================] - 0s 8ms/step - loss: 0.0269 - accuracy: 0.9906 - val_loss: 0.0420 - val_accuracy: 0.9875\n",
      "Epoch 145/150\n",
      "10/10 [==============================] - 0s 8ms/step - loss: 0.0212 - accuracy: 0.9906 - val_loss: 0.0408 - val_accuracy: 0.9875\n",
      "Epoch 146/150\n",
      "10/10 [==============================] - 0s 10ms/step - loss: 0.0222 - accuracy: 0.9906 - val_loss: 0.0405 - val_accuracy: 0.9875\n",
      "Epoch 147/150\n",
      "10/10 [==============================] - 0s 10ms/step - loss: 0.0214 - accuracy: 0.9937 - val_loss: 0.0404 - val_accuracy: 0.9875\n",
      "Epoch 148/150\n",
      "10/10 [==============================] - 0s 10ms/step - loss: 0.0206 - accuracy: 0.9937 - val_loss: 0.0416 - val_accuracy: 0.9875\n",
      "Epoch 149/150\n",
      "10/10 [==============================] - 0s 8ms/step - loss: 0.0172 - accuracy: 0.9937 - val_loss: 0.0430 - val_accuracy: 0.9875\n",
      "Epoch 150/150\n",
      "10/10 [==============================] - 0s 7ms/step - loss: 0.0191 - accuracy: 0.9906 - val_loss: 0.0430 - val_accuracy: 0.9875\n"
     ]
    }
   ],
   "source": [
    "history = model.fit(X_train, Y_train, epochs=150, validation_split=0.2)"
   ]
  },
  {
   "cell_type": "code",
   "execution_count": 170,
   "id": "b8199cce",
   "metadata": {},
   "outputs": [
    {
     "data": {
      "image/png": "[encoded data removed]",
      "text/plain": [
       "<Figure size 1440x576 with 2 Axes>"
      ]
     },
     "metadata": {},
     "output_type": "display_data"
    }
   ],
   "source": [
    "train_acc = history.history['accuracy']\n",
    "train_loss = history.history['loss']\n",
    "val_acc = history.history['val_accuracy']\n",
    "val_loss = history.history['val_loss']\n",
    "index_loss = np.argmin(val_loss)\n",
    "val_lowest = val_loss[index_loss]\n",
    "index_acc = np.argmax(val_acc)\n",
    "highest_acc = val_acc[index_acc]\n",
    "Epochs = [i+1 for i in range(len(train_acc))]\n",
    "loss_label = f'best epoch= {str(index_loss + 1)}'\n",
    "acc_label = f'best epoch= {str(index_acc + 1)}'\n",
    "# Plot training history\n",
    "\n",
    "plt.figure(figsize= (20, 8))\n",
    "plt.style.use('fivethirtyeight')\n",
    "\n",
    "plt.subplot(1, 2, 1)\n",
    "plt.plot(Epochs, train_loss, 'r', label= 'Training loss')\n",
    "plt.plot(Epochs, val_loss, 'g', label= 'Validation loss')\n",
    "plt.scatter(index_loss + 1, val_lowest, s= 150, c= 'blue', label= loss_label)\n",
    "plt.title('Training and Validation Loss')\n",
    "plt.xlabel('Epochs')\n",
    "plt.ylabel('Loss')\n",
    "plt.legend()\n",
    "plt.subplot(1, 2, 2)\n",
    "plt.plot(Epochs, train_acc, 'r', label= 'Training Accuracy')\n",
    "plt.plot(Epochs, val_acc, 'g', label= 'Validation Accuracy')\n",
    "plt.scatter(index_acc + 1 , highest_acc, s= 150, c= 'blue', label= acc_label)\n",
    "plt.title('Training and Validation Accuracy')\n",
    "plt.xlabel('Epochs')\n",
    "plt.ylabel('Accuracy')\n",
    "plt.legend()\n",
    "\n",
    "plt.tight_layout\n",
    "plt.show()"
   ]
  },
  {
   "cell_type": "code",
   "execution_count": 176,
   "id": "e28af7da",
   "metadata": {},
   "outputs": [
    {
     "name": "stdout",
     "output_type": "stream",
     "text": [
      "6/6 [==============================] - 0s 1ms/step\n"
     ]
    },
    {
     "data": {
      "text/plain": [
       "array([[9.9999988e-01],\n",
       "       [5.4987192e-02],\n",
       "       [1.4155326e-04],\n",
       "       [2.4357799e-03],\n",
       "       [1.5701950e-04],\n",
       "       [2.3513740e-04],\n",
       "       [5.3589515e-06],\n",
       "       [1.4589165e-04],\n",
       "       [4.6370906e-06],\n",
       "       [7.7704122e-08],\n",
       "       [3.3072524e-02],\n",
       "       [2.8227566e-02],\n",
       "       [9.3266510e-07],\n",
       "       [3.3537355e-01],\n",
       "       [6.3072258e-01],\n",
       "       [9.9999762e-01],\n",
       "       [9.5394498e-06],\n",
       "       [1.0000000e+00],\n",
       "       [1.0000000e+00],\n",
       "       [1.0000000e+00],\n",
       "       [9.9999976e-01],\n",
       "       [9.9997079e-01],\n",
       "       [1.4804490e-03],\n",
       "       [3.4092204e-04],\n",
       "       [1.0000000e+00],\n",
       "       [2.7589081e-04],\n",
       "       [4.6026062e-06],\n",
       "       [9.9765551e-01],\n",
       "       [2.7536100e-04],\n",
       "       [1.0000000e+00],\n",
       "       [1.1865251e-05],\n",
       "       [1.0000000e+00],\n",
       "       [2.5751743e-02],\n",
       "       [9.9999982e-01],\n",
       "       [1.6255516e-08],\n",
       "       [1.0000000e+00],\n",
       "       [7.0804036e-03],\n",
       "       [1.0000000e+00],\n",
       "       [9.6407312e-04],\n",
       "       [9.9999994e-01],\n",
       "       [9.9993914e-01],\n",
       "       [5.5498640e-07],\n",
       "       [9.9726361e-01],\n",
       "       [5.0176532e-06],\n",
       "       [2.5373697e-03],\n",
       "       [1.0000000e+00],\n",
       "       [3.3770613e-09],\n",
       "       [2.8839851e-02],\n",
       "       [6.1214974e-05],\n",
       "       [1.0000000e+00],\n",
       "       [1.0000000e+00],\n",
       "       [9.7967190e-01],\n",
       "       [1.0000000e+00],\n",
       "       [1.5812425e-04],\n",
       "       [6.3778825e-05],\n",
       "       [7.6749064e-05],\n",
       "       [6.3584681e-05],\n",
       "       [4.9106940e-04],\n",
       "       [6.0471985e-03],\n",
       "       [1.0000000e+00],\n",
       "       [9.9999982e-01],\n",
       "       [9.9999988e-01],\n",
       "       [2.3076183e-07],\n",
       "       [1.2140335e-04],\n",
       "       [9.9999994e-01],\n",
       "       [1.9403525e-02],\n",
       "       [1.0000000e+00],\n",
       "       [1.0000000e+00],\n",
       "       [1.0000000e+00],\n",
       "       [3.7598427e-04],\n",
       "       [1.4642188e-01],\n",
       "       [1.0000000e+00],\n",
       "       [4.8730939e-04],\n",
       "       [9.8099393e-01],\n",
       "       [1.0000000e+00],\n",
       "       [2.0353487e-02],\n",
       "       [9.4553798e-06],\n",
       "       [3.3300377e-03],\n",
       "       [7.0719498e-06],\n",
       "       [3.4644597e-06],\n",
       "       [9.9992627e-01],\n",
       "       [1.0000000e+00],\n",
       "       [1.0000000e+00],\n",
       "       [4.7064459e-06],\n",
       "       [9.9990952e-01],\n",
       "       [3.1016822e-05],\n",
       "       [2.6266214e-06],\n",
       "       [8.6455039e-08],\n",
       "       [1.0000000e+00],\n",
       "       [1.0000000e+00],\n",
       "       [1.0835481e-06],\n",
       "       [9.3846136e-01],\n",
       "       [6.5180868e-01],\n",
       "       [1.0000000e+00],\n",
       "       [3.9740856e-04],\n",
       "       [7.0456672e-04],\n",
       "       [1.0000000e+00],\n",
       "       [8.5002609e-04],\n",
       "       [1.4915684e-03],\n",
       "       [1.2084445e-03],\n",
       "       [5.7294794e-11],\n",
       "       [7.9728366e-04],\n",
       "       [7.9746789e-04],\n",
       "       [1.7605187e-02],\n",
       "       [1.0000000e+00],\n",
       "       [4.0329647e-05],\n",
       "       [1.0000000e+00],\n",
       "       [5.6599990e-02],\n",
       "       [7.3814571e-01],\n",
       "       [1.1482764e-02],\n",
       "       [3.9949561e-03],\n",
       "       [1.0000000e+00],\n",
       "       [1.0000000e+00],\n",
       "       [7.0507713e-02],\n",
       "       [5.8251456e-04],\n",
       "       [8.5482094e-03],\n",
       "       [6.9458112e-03],\n",
       "       [4.8787944e-04],\n",
       "       [1.1311504e-02],\n",
       "       [6.4054933e-05],\n",
       "       [2.8904789e-04],\n",
       "       [1.1120586e-04],\n",
       "       [1.6930059e-02],\n",
       "       [2.8613515e-03],\n",
       "       [1.0000000e+00],\n",
       "       [1.9109646e-02],\n",
       "       [7.8311488e-02],\n",
       "       [1.0622768e-05],\n",
       "       [4.2153297e-06],\n",
       "       [4.9144040e-07],\n",
       "       [1.0000000e+00],\n",
       "       [3.9786901e-06],\n",
       "       [2.7344118e-05],\n",
       "       [9.4230352e-03],\n",
       "       [3.9602764e-04],\n",
       "       [7.1796606e-08],\n",
       "       [6.6630697e-01],\n",
       "       [7.3603123e-01],\n",
       "       [1.0000000e+00],\n",
       "       [1.5063341e-05],\n",
       "       [1.0522719e-04],\n",
       "       [1.8273364e-06],\n",
       "       [1.0000000e+00],\n",
       "       [1.0347166e-03],\n",
       "       [4.6578593e-06],\n",
       "       [1.0000000e+00],\n",
       "       [2.5409069e-03],\n",
       "       [9.8656201e-01],\n",
       "       [4.2409534e-04],\n",
       "       [1.3016075e-03],\n",
       "       [9.3763418e-05],\n",
       "       [6.2176601e-05],\n",
       "       [6.3315979e-06],\n",
       "       [9.9196649e-01],\n",
       "       [9.0907424e-06],\n",
       "       [1.0000000e+00],\n",
       "       [1.7425989e-03],\n",
       "       [9.9998289e-01],\n",
       "       [1.6047647e-05],\n",
       "       [1.0000000e+00],\n",
       "       [1.0000000e+00],\n",
       "       [2.1629417e-04],\n",
       "       [1.7712901e-03],\n",
       "       [9.9999923e-01],\n",
       "       [5.1930223e-05],\n",
       "       [1.0000000e+00],\n",
       "       [9.9997020e-01],\n",
       "       [1.0000000e+00],\n",
       "       [7.3535316e-02],\n",
       "       [2.4742892e-03],\n",
       "       [9.5914049e-07]], dtype=float32)"
      ]
     },
     "metadata": {},
     "output_type": "display_data"
    }
   ],
   "source": [
    "Y_pred = model.predict(X_test)\n",
    "Y_pred.shape\n",
    "display(Y_pred)"
   ]
  },
  {
   "cell_type": "code",
   "execution_count": null,
   "id": "05684bd2",
   "metadata": {},
   "outputs": [],
   "source": []
  }
 ],
 "metadata": {
  "kernelspec": {
   "display_name": "Python 3 (ipykernel)",
   "language": "python",
   "name": "python3"
  },
  "language_info": {
   "codemirror_mode": {
    "name": "ipython",
    "version": 3
   },
   "file_extension": ".py",
   "mimetype": "text/x-python",
   "name": "python",
   "nbconvert_exporter": "python",
   "pygments_lexer": "ipython3",
   "version": "3.9.12"
  }
 },
 "nbformat": 4,
 "nbformat_minor": 5
}
